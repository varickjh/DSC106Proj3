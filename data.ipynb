{
 "cells": [
  {
   "cell_type": "code",
   "execution_count": 2,
   "metadata": {},
   "outputs": [],
   "source": [
    "import pandas as pd"
   ]
  },
  {
   "cell_type": "code",
   "execution_count": 2,
   "metadata": {},
   "outputs": [],
   "source": [
    "df = pd.read_csv('Demographics.csv')"
   ]
  },
  {
   "cell_type": "code",
   "execution_count": 28,
   "metadata": {},
   "outputs": [],
   "source": [
    "dexcom_df = pd.read_csv('Dexcom_001.csv')\n",
    "dexcom_df = dexcom_df[12:].drop(columns=['Index'])\n",
    "dexcom_df['ID'] = int('001')\n",
    "\n",
    "dexcom_df\n",
    "\n",
    "ids = ['002', '003', '004', '005', '006', '007', '008', '009', '010', '011', '012', '013', '014', '015', '016']\n",
    "for id in ids:\n",
    "    temp_df = pd.read_csv(f\"Dexcom_{id}.csv\")\n",
    "    temp_df = temp_df[12:].drop(columns=['Index'])\n",
    "    temp_df['ID'] = int(id)\n",
    "    dexcom_df = pd.concat([dexcom_df, temp_df], ignore_index=True)\n",
    "\n",
    "dexcom_df.to_csv('Dexcom_Combined.csv', index=False)"
   ]
  },
  {
   "cell_type": "code",
   "execution_count": 3,
   "metadata": {},
   "outputs": [],
   "source": [
    "food_df = pd.read_csv('Food_Log_001.csv')\n",
    "food_df['ID'] = int('011')\n",
    "\n",
    "ids = ['002', '003', '004', '005', '006', '007', '008', '009', '010', '011', '012', '013', '014', '015', '016']\n",
    "for id in ids:\n",
    "    temp_df = pd.read_csv(f\"Food_Log_{id}.csv\")\n",
    "    temp_df['ID'] = int(id)\n",
    "    food_df = pd.concat([food_df, temp_df], ignore_index=True)\n",
    "\n",
    "food_df = food_df.drop(columns =['2020-02-22', '10:30:00',\n",
    "       '2020-02-22 10:30:00', 'Chicken Nuggets', '8.0', 'piece',\n",
    "       'Chicken Nuggets.1', '393.0', '19.0', '0.1', '20.0'], axis=1)\n",
    "food_df.to_csv('Food_Combined.csv', index=False)"
   ]
  },
  {
   "cell_type": "code",
   "execution_count": null,
   "metadata": {},
   "outputs": [],
   "source": [
    "def read_dexcom(id):\n",
    "    \"\"\"\n",
    "    Read the Dexcom data from a CSV file and return it as a DataFrame.\n",
    "    \"\"\"\n",
    "    copy_df = dexcom_df.copy()\n",
    "    temp_df = pd.read_csv(f\"Dexcom_{id}.csv\")\n",
    "    temp_df = temp_df[11:].drop(columns=['Index'])\n",
    "    temp_df['ID'] = int(id)\n",
    "    dexcom_df = pd.concat([copy_df, temp_df], ignore_index=True)\n",
    "    return dexcom_df\n",
    "\n",
    "def read_food(id):\n",
    "    \"\"\"\n",
    "    Read the Dexcom data from a CSV file and return it as a DataFrame.\n",
    "    \"\"\"\n",
    "    temp_df = pd.read_csv(f\"Food_Log_{id}.csv\")\n",
    "    temp_df['ID'] = int(id)\n",
    "    food_df = pd.concat([food_df, temp_df], ignore_index=True)"
   ]
  },
  {
   "cell_type": "code",
   "execution_count": null,
   "metadata": {},
   "outputs": [],
   "source": [
    "dexcom_df = pd.read_csv('Dexcom_001.csv')\n",
    "dexcom_df = dexcom_df[11:].drop(columns=['Index'])\n",
    "dexcom_df['ID'] = int('001')\n",
    "\n",
    "food_df = pd.read_csv('Food_Log_001.csv')\n",
    "food_df['ID'] = int('011')\n",
    "\n",
    "ids = ['002', '003', '004', '005', '006', '007', '008', '009', '010', '011', '012', '013', '014', '015', '016']\n",
    "for id in ids:\n",
    "    read_dexcom(id)\n",
    "    read_food(id)\n",
    "\n",
    "dexcom_df\n",
    "food_df"
   ]
  }
 ],
 "metadata": {
  "kernelspec": {
   "display_name": "dsc80",
   "language": "python",
   "name": "python3"
  },
  "language_info": {
   "codemirror_mode": {
    "name": "ipython",
    "version": 3
   },
   "file_extension": ".py",
   "mimetype": "text/x-python",
   "name": "python",
   "nbconvert_exporter": "python",
   "pygments_lexer": "ipython3",
   "version": "3.12.8"
  }
 },
 "nbformat": 4,
 "nbformat_minor": 2
}
